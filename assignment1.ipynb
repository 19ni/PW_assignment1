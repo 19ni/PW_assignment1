{
 "cells": [
  {
   "cell_type": "code",
   "execution_count": 1,
   "id": "eb19ca82-4f9d-4cc3-bbd4-e7fd2d958220",
   "metadata": {},
   "outputs": [],
   "source": [
    "# Assignment 1\n"
   ]
  },
  {
   "cell_type": "code",
   "execution_count": 3,
   "id": "5586eb37-2bd1-4008-8dc3-fb9593218b6e",
   "metadata": {},
   "outputs": [],
   "source": [
    "# Explain the key features of Python that make it a popular choice for programmin"
   ]
  },
  {
   "cell_type": "code",
   "execution_count": 1,
   "id": "5718d41a-012e-47b5-bde9-741177b63aa0",
   "metadata": {},
   "outputs": [],
   "source": [
    "#ans: 1. Readability and simplicity - its easy to understand\n",
    "      #2.extensive libraries\n",
    "    #3.interpreted language\n",
    "    #4.use in education\n",
    "    "
   ]
  },
  {
   "cell_type": "code",
   "execution_count": 2,
   "id": "e203803e-025f-4f93-9e4f-bc731ab7451f",
   "metadata": {},
   "outputs": [],
   "source": [
    "# Q2  Describe the Role of predefined keywords in Python and provide examples of how they are used in a program:\n",
    "\n"
   ]
  },
  {
   "cell_type": "code",
   "execution_count": 3,
   "id": "ae8d983c-4176-47af-a935-360efbb9dd7c",
   "metadata": {},
   "outputs": [],
   "source": [
    "# ans::   predefined keywords are reserved keywords in python  it could be \"if\" \"elif\" \"else\"\n",
    "# \"for\" \"while \""
   ]
  },
  {
   "cell_type": "code",
   "execution_count": 4,
   "id": "3be64c59-034f-42e6-9fee-27170fe74f8a",
   "metadata": {},
   "outputs": [
    {
     "name": "stdout",
     "output_type": "stream",
     "text": [
      "greater than 100\n"
     ]
    }
   ],
   "source": [
    "x=100\n",
    "if(x>10):\n",
    "    print(\"greater than 100\")\n",
    "else:\n",
    "    print(\"not greater than 100\")\n",
    "    "
   ]
  },
  {
   "cell_type": "code",
   "execution_count": 5,
   "id": "c95bc23b-6427-42ec-9609-148ea70c37ca",
   "metadata": {},
   "outputs": [
    {
     "name": "stdout",
     "output_type": "stream",
     "text": [
      "1\n",
      "2\n"
     ]
    }
   ],
   "source": [
    "l=[1,2,3,4,5,6]\n",
    "for i in l:\n",
    "    if i==3:\n",
    "        break\n",
    "    else:\n",
    "        print(i)"
   ]
  },
  {
   "cell_type": "code",
   "execution_count": 6,
   "id": "468e5361-32e7-4fab-bd8e-d541141b1657",
   "metadata": {},
   "outputs": [],
   "source": [
    "# QQQ . Compare and contrast mutable and immutable objects in Python with examples"
   ]
  },
  {
   "cell_type": "code",
   "execution_count": 7,
   "id": "e73e1ea7-6216-4a10-9506-c994233e56ab",
   "metadata": {},
   "outputs": [],
   "source": [
    "# mutable are :- Lists , dict (mutable are that can be changed)\n",
    "# immutable :-  integers, float , string etc "
   ]
  },
  {
   "cell_type": "code",
   "execution_count": 9,
   "id": "e281e3f8-736e-4487-ab61-9e2c91a2efea",
   "metadata": {},
   "outputs": [
    {
     "data": {
      "text/plain": [
       "[1, 2, 3, 4, 5, 6]"
      ]
     },
     "execution_count": 9,
     "metadata": {},
     "output_type": "execute_result"
    }
   ],
   "source": [
    "# example of immutable:\n",
    "\n",
    "list=[1,2,3,4,5,6]\n",
    "list"
   ]
  },
  {
   "cell_type": "code",
   "execution_count": 10,
   "id": "757b0205-ddba-4d1d-b20f-30abdcd5dc61",
   "metadata": {},
   "outputs": [
    {
     "data": {
      "text/plain": [
       "3"
      ]
     },
     "execution_count": 10,
     "metadata": {},
     "output_type": "execute_result"
    }
   ],
   "source": [
    "list[2]"
   ]
  },
  {
   "cell_type": "code",
   "execution_count": 13,
   "id": "ca226bbb-b291-4c6c-89b8-36e6d154c92e",
   "metadata": {},
   "outputs": [
    {
     "data": {
      "text/plain": [
       "[1, 2, 10, 4, 5, 6]"
      ]
     },
     "execution_count": 13,
     "metadata": {},
     "output_type": "execute_result"
    }
   ],
   "source": [
    "list[2]=10\n",
    "list\n",
    "# changed to 10"
   ]
  },
  {
   "cell_type": "code",
   "execution_count": 14,
   "id": "77338daf-0c2a-45b7-852d-eae0b5aee929",
   "metadata": {},
   "outputs": [
    {
     "data": {
      "text/plain": [
       "'physs'"
      ]
     },
     "execution_count": 14,
     "metadata": {},
     "output_type": "execute_result"
    }
   ],
   "source": [
    "# examples of immuatble \n",
    "\n",
    "str=\"physs\"\n",
    "str"
   ]
  },
  {
   "cell_type": "code",
   "execution_count": 15,
   "id": "34426a58-0bb0-4617-8ab7-2ab0da029b50",
   "metadata": {},
   "outputs": [],
   "source": [
    "# string cannot be changed so its immuatble "
   ]
  },
  {
   "cell_type": "code",
   "execution_count": 16,
   "id": "34408973-f9d2-4d8d-94e8-d7d5fbcbcb8a",
   "metadata": {},
   "outputs": [],
   "source": [
    "# Q. Discuss the different types of operators in Python and provide examples of how they are used ??? "
   ]
  },
  {
   "cell_type": "code",
   "execution_count": 18,
   "id": "8b6dc00e-87cb-41cc-8e73-a32fabbd9bff",
   "metadata": {},
   "outputs": [
    {
     "name": "stdout",
     "output_type": "stream",
     "text": [
      "7\n",
      "-1\n",
      "12\n",
      "0.75\n",
      "3\n"
     ]
    }
   ],
   "source": [
    "# arithmatic operator \n",
    "\n",
    "a=3\n",
    "b=4\n",
    "print(a+b)\n",
    "print(a-b)\n",
    "print(a*b)\n",
    "print(a/b)\n",
    "print(a%b)\n"
   ]
  },
  {
   "cell_type": "code",
   "execution_count": 20,
   "id": "3a86b60c-079d-4bcd-baef-b2ac49b5f43c",
   "metadata": {},
   "outputs": [
    {
     "name": "stdout",
     "output_type": "stream",
     "text": [
      "False\n",
      "True\n",
      "False\n",
      "True\n",
      "False\n",
      "True\n"
     ]
    }
   ],
   "source": [
    " # comparison operator\n",
    "a=10\n",
    "b=20\n",
    "print(a==b)\n",
    "print(a!=b)\n",
    "print(a>b)\n",
    "print(a<b)\n",
    "print(a>=b)\n",
    "print(a<=b)\n",
    "\n",
    "    \n",
    "        "
   ]
  },
  {
   "cell_type": "code",
   "execution_count": 24,
   "id": "eb64d50a-e788-4e6d-91bf-1c4cd2a2b231",
   "metadata": {},
   "outputs": [
    {
     "data": {
      "text/plain": [
       "12"
      ]
     },
     "execution_count": 24,
     "metadata": {},
     "output_type": "execute_result"
    }
   ],
   "source": [
    "# assignment operator \n",
    "a=10\n",
    "a+=2\n",
    "a"
   ]
  },
  {
   "cell_type": "code",
   "execution_count": 25,
   "id": "931376fd-0f81-461a-940f-0a3540b9a417",
   "metadata": {},
   "outputs": [
    {
     "data": {
      "text/plain": [
       "10"
      ]
     },
     "execution_count": 25,
     "metadata": {},
     "output_type": "execute_result"
    }
   ],
   "source": [
    "a-=2\n",
    "a"
   ]
  },
  {
   "cell_type": "code",
   "execution_count": 26,
   "id": "65364442-38c0-455a-96c6-17fa06f5d1eb",
   "metadata": {},
   "outputs": [
    {
     "data": {
      "text/plain": [
       "20"
      ]
     },
     "execution_count": 26,
     "metadata": {},
     "output_type": "execute_result"
    }
   ],
   "source": [
    "a*=2\n",
    "a"
   ]
  },
  {
   "cell_type": "code",
   "execution_count": 28,
   "id": "69648cfc-13e7-49f8-8e34-a093f4c08a11",
   "metadata": {},
   "outputs": [
    {
     "data": {
      "text/plain": [
       "5.0"
      ]
     },
     "execution_count": 28,
     "metadata": {},
     "output_type": "execute_result"
    }
   ],
   "source": [
    "a/=2\n",
    "a"
   ]
  },
  {
   "cell_type": "code",
   "execution_count": 30,
   "id": "9880b820-2402-4b1d-acc1-dae65d3b5b75",
   "metadata": {},
   "outputs": [
    {
     "data": {
      "text/plain": [
       "False"
      ]
     },
     "execution_count": 30,
     "metadata": {},
     "output_type": "execute_result"
    }
   ],
   "source": [
    "# AND AND OR \n",
    "a=True\n",
    "b=False\n",
    "\n",
    "a and b"
   ]
  },
  {
   "cell_type": "code",
   "execution_count": 31,
   "id": "eb8af34c-d1fd-40e3-af43-008cb5859698",
   "metadata": {},
   "outputs": [
    {
     "data": {
      "text/plain": [
       "True"
      ]
     },
     "execution_count": 31,
     "metadata": {},
     "output_type": "execute_result"
    }
   ],
   "source": [
    "a or b"
   ]
  },
  {
   "cell_type": "code",
   "execution_count": 33,
   "id": "6b80fbc9-092d-472f-b57f-e0a499c3169e",
   "metadata": {},
   "outputs": [
    {
     "data": {
      "text/plain": [
       "True"
      ]
     },
     "execution_count": 33,
     "metadata": {},
     "output_type": "execute_result"
    }
   ],
   "source": [
    "# MEMBER \n",
    "L=[1,2,3,4,5,6]\n",
    "3 in L"
   ]
  },
  {
   "cell_type": "code",
   "execution_count": null,
   "id": "f24c9474-892c-45d7-9af4-fa30e8bb4a1e",
   "metadata": {},
   "outputs": [],
   "source": [
    "\n"
   ]
  },
  {
   "cell_type": "code",
   "execution_count": 34,
   "id": "752b8900-2a5d-4f63-b62e-e6c13134dbf4",
   "metadata": {},
   "outputs": [],
   "source": [
    "# Q .  explain the concept of type casting in Python with examples"
   ]
  },
  {
   "cell_type": "code",
   "execution_count": 35,
   "id": "80cf34d4-17c5-4bb9-9f1f-985ce863cf88",
   "metadata": {},
   "outputs": [],
   "source": [
    " # ans : type casting means changing one data type to another "
   ]
  },
  {
   "cell_type": "code",
   "execution_count": 36,
   "id": "93a1fa1f-fd3c-4d62-b5fd-92249ef23878",
   "metadata": {},
   "outputs": [
    {
     "data": {
      "text/plain": [
       "int"
      ]
     },
     "execution_count": 36,
     "metadata": {},
     "output_type": "execute_result"
    }
   ],
   "source": [
    "n=10\n",
    "type (n)"
   ]
  },
  {
   "cell_type": "code",
   "execution_count": 38,
   "id": "b5b9b299-347b-4744-9558-de2ab9561a65",
   "metadata": {},
   "outputs": [
    {
     "data": {
      "text/plain": [
       "10.0"
      ]
     },
     "execution_count": 38,
     "metadata": {},
     "output_type": "execute_result"
    }
   ],
   "source": [
    "b=float(n)\n",
    "b"
   ]
  },
  {
   "cell_type": "code",
   "execution_count": 39,
   "id": "0a0a3265-5299-4552-8f32-fbf59344255e",
   "metadata": {},
   "outputs": [
    {
     "data": {
      "text/plain": [
       "10"
      ]
     },
     "execution_count": 39,
     "metadata": {},
     "output_type": "execute_result"
    }
   ],
   "source": [
    "# float to int\n",
    "\n",
    "a=10.0\n",
    "a\n",
    "b=int(b)\n",
    "b"
   ]
  },
  {
   "cell_type": "code",
   "execution_count": 42,
   "id": "1db86858-7aaf-4ee3-98ee-d8d442830aea",
   "metadata": {},
   "outputs": [
    {
     "name": "stdout",
     "output_type": "stream",
     "text": [
      "<class 'int'>\n",
      "10\n"
     ]
    }
   ],
   "source": [
    "a=\"12345\"\n",
    "type(a)\n",
    "b=int(b)\n",
    "print(type(b))\n",
    "print(b)"
   ]
  },
  {
   "cell_type": "code",
   "execution_count": 43,
   "id": "d3eb5cbd-5000-4ade-b967-2ac9ff4e1fb5",
   "metadata": {},
   "outputs": [],
   "source": [
    "# Q . How do conditional stateMents woRk in Python? IllustRate with exaMples"
   ]
  },
  {
   "cell_type": "code",
   "execution_count": 44,
   "id": "2501f74d-610d-46bd-ab3d-8cfa1b50634e",
   "metadata": {},
   "outputs": [
    {
     "name": "stdout",
     "output_type": "stream",
     "text": [
      "0\n",
      "2\n",
      "4\n",
      "6\n",
      "8\n",
      "10\n",
      "12\n",
      "14\n",
      "16\n",
      "18\n",
      "20\n",
      "22\n",
      "24\n",
      "26\n",
      "28\n",
      "30\n",
      "32\n",
      "34\n",
      "36\n",
      "38\n",
      "40\n",
      "42\n",
      "44\n",
      "46\n",
      "48\n",
      "50\n",
      "52\n",
      "54\n",
      "56\n",
      "58\n",
      "60\n",
      "62\n",
      "64\n",
      "66\n",
      "68\n",
      "70\n",
      "72\n",
      "74\n",
      "76\n",
      "78\n",
      "80\n",
      "82\n",
      "84\n",
      "86\n",
      "88\n",
      "90\n",
      "92\n",
      "94\n",
      "96\n",
      "98\n"
     ]
    }
   ],
   "source": [
    "# print even number from 1 to 100\n",
    "\n",
    "for i in range(0,100):\n",
    "    if i%2==0:\n",
    "        print(i)"
   ]
  },
  {
   "cell_type": "code",
   "execution_count": 50,
   "id": "f547fb41-2bce-4264-b469-2eb8ee54d4f2",
   "metadata": {},
   "outputs": [
    {
     "name": "stdout",
     "output_type": "stream",
     "text": [
      " adult \n"
     ]
    }
   ],
   "source": [
    "# another example \n",
    "age=20\n",
    "if(age<18):\n",
    "    print(\"teen\")\n",
    "elif(13<= age< 24):\n",
    "    print(\" adult \")\n",
    "else:\n",
    "    print(\"senior\")"
   ]
  },
  {
   "cell_type": "code",
   "execution_count": 51,
   "id": "2f3a2f1e-6fc2-4f1b-b482-b7e8aff3fdf7",
   "metadata": {},
   "outputs": [],
   "source": [
    "# Q. Describe the different types of loops in Python and their use cases with examples."
   ]
  },
  {
   "cell_type": "code",
   "execution_count": 54,
   "id": "bd534a82-86e9-4f42-8074-99c2d472ecee",
   "metadata": {},
   "outputs": [
    {
     "name": "stdout",
     "output_type": "stream",
     "text": [
      "1\n",
      "2\n",
      "3\n",
      "4\n",
      "5\n",
      "6\n",
      "7\n",
      "8\n",
      "9\n"
     ]
    }
   ],
   "source": [
    " l=[1,2,3,4,5,6,7,8,9]\n",
    "for i in l:\n",
    "    print(i)"
   ]
  },
  {
   "cell_type": "code",
   "execution_count": 58,
   "id": "1cfcc198-096d-4283-8941-a570b1dff63c",
   "metadata": {},
   "outputs": [],
   "source": [
    "count=10\n",
    "n=50\n",
    "while(count>):\n",
    "    count+=1\n",
    "    print(count)"
   ]
  },
  {
   "cell_type": "code",
   "execution_count": null,
   "id": "446f624f-eae8-4d43-bed8-924064e6be4b",
   "metadata": {},
   "outputs": [],
   "source": []
  }
 ],
 "metadata": {
  "kernelspec": {
   "display_name": "Python 3 (ipykernel)",
   "language": "python",
   "name": "python3"
  },
  "language_info": {
   "codemirror_mode": {
    "name": "ipython",
    "version": 3
   },
   "file_extension": ".py",
   "mimetype": "text/x-python",
   "name": "python",
   "nbconvert_exporter": "python",
   "pygments_lexer": "ipython3",
   "version": "3.10.8"
  }
 },
 "nbformat": 4,
 "nbformat_minor": 5
}
